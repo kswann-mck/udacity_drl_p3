{
 "cells": [
  {
   "cell_type": "markdown",
   "metadata": {},
   "source": [
    "# Report\n",
    "## Project 3: Collaboration and Competition\n",
    "### Udacity Deep Reinforcement Learning Nanodegree\n",
    "by Kitson Swann\n",
    "2021-05-14\n",
    "\n",
    "## Tennis Environment\n",
    "\n",
    "![playing.gif](playing.gif)\n",
    "\n",
    "In this environment, two agents control rackets to bounce a ball over a net. If an agent hits the ball over the net, it receives a reward of +0.1. If an agent lets a ball hit the ground or hits the ball out of bounds, it receives a reward of -0.01. Thus, the goal of each agent is to keep the ball in play.\n",
    "\n",
    "### States\n",
    "\n",
    "The state space consists of 8 variables corresponding to the position and velocity of the ball and racket. Each agent receives its own, local observation. \n",
    "\n",
    "### Actions\n",
    "\n",
    "Two continuous actions are available, corresponding to movement toward (or away from) the net, and jumping.\n",
    "\n",
    "### Rewards\n",
    "\n",
    "The task is episodic. The task is considered solved when the maximum of the total score for the two agents is +0.5 (over 100 consecutive episodes).\n",
    "\n",
    "After each episode, we add up the rewards that each agent received (without discounting, to get a score for each agent. This yields 2 (potentially different) scores. We then take the maximum of these 2 scores.\n",
    "This yields a single score for each episode.\n",
    "The environment is considered solved, when the average (over 100 episodes) of those scores is at least +0.5."
   ]
  },
  {
   "cell_type": "markdown",
   "metadata": {},
   "source": [
    "Below you can see the environment initialized with the state and action spaces shown."
   ]
  },
  {
   "cell_type": "code",
   "execution_count": 1,
   "metadata": {},
   "outputs": [
    {
     "name": "stderr",
     "output_type": "stream",
     "text": [
      "INFO:unityagents:\n",
      "'Academy' started successfully!\n",
      "Unity Academy name: Academy\n",
      "        Number of Brains: 1\n",
      "        Number of External Brains : 1\n",
      "        Lesson number : 0\n",
      "        Reset Parameters :\n",
      "\t\t\n",
      "Unity brain name: TennisBrain\n",
      "        Number of Visual Observations (per agent): 0\n",
      "        Vector Observation space type: continuous\n",
      "        Vector Observation space size (per agent): 8\n",
      "        Number of stacked Vector Observation: 3\n",
      "        Vector Action space type: continuous\n",
      "        Vector Action space size (per agent): 2\n",
      "        Vector Action descriptions: , \n"
     ]
    },
    {
     "name": "stdout",
     "output_type": "stream",
     "text": [
      "Number of agents: 2\n",
      "Size of each action: 2\n",
      "There are 2 agents. Each observes a state with length: 24\n",
      "The state for the first agent looks like: [ 0.          0.          0.          0.          0.          0.\n",
      "  0.          0.          0.          0.          0.          0.\n",
      "  0.          0.          0.          0.         -6.29742813 -1.5\n",
      " -0.          0.          7.17024279  6.         -0.          0.        ]\n"
     ]
    }
   ],
   "source": [
    "from unityagents import UnityEnvironment\n",
    "import matplotlib.pyplot as plt\n",
    "#from optimize import find_optimal_hyperparameters\n",
    "from train import train_ddpg\n",
    "\n",
    "RANDOM_SEED = 2\n",
    "\n",
    "%matplotlib inline\n",
    "\n",
    "env = UnityEnvironment(file_name='./env/Tennis.app', seed=RANDOM_SEED, no_graphics=True)\n",
    "\n",
    "# get the default brain\n",
    "brain_name = env.brain_names[0]\n",
    "brain = env.brains[brain_name]\n",
    "\n",
    "# reset the environment\n",
    "env_info = env.reset(train_mode=True)[brain_name]\n",
    "\n",
    "# number of agents \n",
    "num_agents = len(env_info.agents)\n",
    "print('Number of agents:', num_agents)\n",
    "\n",
    "# size of each action\n",
    "action_size = brain.vector_action_space_size\n",
    "print('Size of each action:', action_size)\n",
    "\n",
    "# examine the state space \n",
    "states = env_info.vector_observations\n",
    "state_size = states.shape[1]\n",
    "print('There are {} agents. Each observes a state with length: {}'.format(states.shape[0], state_size))\n",
    "print('The state for the first agent looks like:', states[0])"
   ]
  },
  {
   "cell_type": "code",
   "execution_count": null,
   "metadata": {},
   "outputs": [],
   "source": [
    "env.close()"
   ]
  },
  {
   "cell_type": "markdown",
   "metadata": {},
   "source": [
    "## Solution\n",
    "\n",
    "### Algorithm\n",
    "\n",
    "I used the Deep Deterministic Policy Gradient agent I had previously developed for Project 2, which was originally based on the Pendulum environment example [here](https://github.com/udacity/deep-reinforcement-learning/tree/master/ddpg-pendulum). I modified the training loop to work with the Unity Tennis environment, which required some minor changes from the Project 2 version. In particular the calculation of the rewards is different, and requires taking the episode max over two competing agents.\n",
    "\n",
    "The Deep Deterministic Policy Gradient (DDPG) algorithm is similar to a Deep Q Network (DQN) but adapted and modified to suit the task of solving environments with continuous action spaces.\n",
    "\n",
    "The DDPG algorithm is similar to a DQN in that:\n",
    "- It uses a replay buffer to store experience tuples which it samples mini-batches from to perform gradient descent steps on the network. \n",
    "- It also makes use of local and a target networks to make target values more stationary while training.\n",
    "\n",
    "However, DQN estimates a Q function that outputs a value for each possible discrete action. Then the agent greedily chooses the action with the highest value. The DDPG instead includes:\n",
    "- an actor - which is a deterministic policy network that takes in a state and returns an action to take directly and,\n",
    "- a critic - a value network which takes in the state plus the action from the actor, and returns the value of the state/action pair\n",
    "\n",
    "In the learning step in DDPG:\n",
    "\n",
    "- A minibatch is sampled from the replay buffer\n",
    "- The target actor network predicts the next actions from the states\n",
    "- The target critic predicts the values of the chosen actions\n",
    "- The Q targets are calculated\n",
    "- The Q expected values are calculated using the local critic\n",
    "- The critic loss is calculated between the expected and target Q values\n",
    "- The loss is minimized on the local critic network\n",
    "- The local actor network predicts the next actions\n",
    "- The actor loss is calculated using the local critic\n",
    "- The loss is minimized on the local actor network\n",
    "- The actor and critic target networks are soft updated with the local network parameters\n",
    "\n",
    "### Initial Experimentation\n",
    "\n",
    "I started with the hyperparameters I had used for Project 2. The Tennis episodes are not static in length like that of the Reacher environment, since the episode continues as long as the ball is in the air. In the early stages the episodes end quickly and they get longer in duration as the agents progress in skill and can keep the ball in the air. I initially ran a training run of 2000 episodes, and saw promising progress on scores, so I increased the training to 20,000 episodes. To my suprise, the agent solved the task in 4215 episodes.\n",
    "\n",
    "I am not totally suprised by this result, as hyper-parameter choices in Deep Learning often end up being good rules of thumb, and work across many similar tasks. This is one the principles they teach in the Fast.ai course for getting good results in training deep neural networks."
   ]
  },
  {
   "cell_type": "code",
   "execution_count": 2,
   "metadata": {},
   "outputs": [
    {
     "name": "stdout",
     "output_type": "stream",
     "text": [
      "{\n",
      "  \"random_seed\": 2,\n",
      "  \"noise_sigma\": 0.02,\n",
      "  \"noise_theta\": 0.015,\n",
      "  \"weight_decay\": 0,\n",
      "  \"tau\": 0.05,\n",
      "  \"gamma\": 0.95,\n",
      "  \"critic_lr\": 0.0001,\n",
      "  \"actor_lr\": 0.001,\n",
      "  \"critic_fc2_units\": 128,\n",
      "  \"critic_fc1_units\": 128,\n",
      "  \"actor_fc2_units\": 128,\n",
      "  \"actor_fc1_units\": 128,\n",
      "  \"update_times\": 10,\n",
      "  \"update_every\": 20,\n",
      "  \"batch_size\": 256,\n",
      "  \"buffer_size\": 1000000.0,\n",
      "  \"eps_decay\": 0.7,\n",
      "  \"eps_end\": 0.3,\n",
      "  \"eps_start\": 1.0,\n",
      "  \"action_size\": 2,\n",
      "  \"state_size\": 24,\n",
      "  \"n_episodes\": 20000,\n",
      "  \"solved_threshold\": 0.5,\n",
      "  \"break_early\": true,\n",
      "  \"name\": \"_base\",\n",
      "  \"num_agents\": 2,\n",
      "  \"brain_name\": \"TennisBrain\"\n",
      "Replay Buffer Size: 1000000.0, Batch Size: 256\n",
      "Episode 9\tAverage Score: 0.0\tScore: 0.0"
     ]
    },
    {
     "name": "stderr",
     "output_type": "stream",
     "text": [
      "/Users/kitson_swann/Documents/udacity_drl/udacity_drl_p3/agent.py:166: UserWarning: torch.nn.utils.clip_grad_norm is now deprecated in favor of torch.nn.utils.clip_grad_norm_.\n",
      "  torch.nn.utils.clip_grad_norm(self.critic_local.parameters(), 1)\n"
     ]
    },
    {
     "name": "stdout",
     "output_type": "stream",
     "text": [
      "Episode 100\tAverage Score: 0.0\tMax Score: 0.0\tMin Score: 0.0\n",
      "Episode 200\tAverage Score: 0.0\tMax Score: 0.0\tMin Score: 0.0\n",
      "Episode 300\tAverage Score: 0.0\tMax Score: 0.0\tMin Score: 0.0\n",
      "Episode 400\tAverage Score: 0.0546\tMax Score: 0.1\tMin Score: 0.1\n",
      "Episode 500\tAverage Score: 0.0653\tMax Score: 0.1\tMin Score: 0.1\n",
      "Episode 600\tAverage Score: 0.0764\tMax Score: 0.0\tMin Score: 0.0\n",
      "Episode 700\tAverage Score: 0.0646\tMax Score: 0.09\tMin Score: 0.09\n",
      "Episode 800\tAverage Score: 0.0645\tMax Score: 0.1\tMin Score: 0.1\n",
      "Episode 900\tAverage Score: 0.079\tMax Score: 0.1\tMin Score: 0.1\n",
      "Episode 1000\tAverage Score: 0.0811\tMax Score: 0.1\tMin Score: 0.1\n",
      "Episode 1100\tAverage Score: 0.0837\tMax Score: 0.1\tMin Score: 0.1\n",
      "Episode 1200\tAverage Score: 0.0844\tMax Score: 0.0\tMin Score: 0.0\n",
      "Episode 1300\tAverage Score: 0.0851\tMax Score: 0.1\tMin Score: 0.1\n",
      "Episode 1400\tAverage Score: 0.0888\tMax Score: 0.09\tMin Score: 0.09\n",
      "Episode 1500\tAverage Score: 0.0855\tMax Score: 0.0\tMin Score: 0.0\n",
      "Episode 1600\tAverage Score: 0.0868\tMax Score: 0.1\tMin Score: 0.1\n",
      "Episode 1700\tAverage Score: 0.0793\tMax Score: 0.09\tMin Score: 0.09\n",
      "Episode 1800\tAverage Score: 0.0916\tMax Score: 0.09\tMin Score: 0.09\n",
      "Episode 1900\tAverage Score: 0.0805\tMax Score: 0.0\tMin Score: 0.0\n",
      "Episode 2000\tAverage Score: 0.0796\tMax Score: 0.1\tMin Score: 0.1\n",
      "Episode 2100\tAverage Score: 0.0851\tMax Score: 0.1\tMin Score: 0.1\n",
      "Episode 2200\tAverage Score: 0.0866\tMax Score: 0.09\tMin Score: 0.09\n",
      "Episode 2300\tAverage Score: 0.0858\tMax Score: 0.1\tMin Score: 0.1\n",
      "Episode 2400\tAverage Score: 0.08\tMax Score: 0.09\tMin Score: 0.09\n",
      "Episode 2500\tAverage Score: 0.075\tMax Score: 0.09\tMin Score: 0.09\n",
      "Episode 2600\tAverage Score: 0.0914\tMax Score: 0.1\tMin Score: 0.1\n",
      "Episode 2700\tAverage Score: 0.103\tMax Score: 0.09\tMin Score: 0.09\n",
      "Episode 2800\tAverage Score: 0.0874\tMax Score: 0.09\tMin Score: 0.09\n",
      "Episode 2900\tAverage Score: 0.0844\tMax Score: 0.1\tMin Score: 0.1\n",
      "Episode 3000\tAverage Score: 0.0926\tMax Score: 0.09\tMin Score: 0.09\n",
      "Episode 3100\tAverage Score: 0.0849\tMax Score: 0.1\tMin Score: 0.1\n",
      "Episode 3200\tAverage Score: 0.0817\tMax Score: 0.1\tMin Score: 0.1\n",
      "Episode 3300\tAverage Score: 0.0962\tMax Score: 0.1\tMin Score: 0.1\n",
      "Episode 3400\tAverage Score: 0.1032\tMax Score: 0.09\tMin Score: 0.09\n",
      "Episode 3500\tAverage Score: 0.0912\tMax Score: 0.1\tMin Score: 0.1\n",
      "Episode 3600\tAverage Score: 0.1006\tMax Score: 0.1\tMin Score: 0.1\n",
      "Episode 3700\tAverage Score: 0.1272\tMax Score: 0.1\tMin Score: 0.1\n",
      "Episode 3800\tAverage Score: 0.1528\tMax Score: 0.0\tMin Score: 0.0\n",
      "Episode 3900\tAverage Score: 0.2493\tMax Score: 0.1\tMin Score: 0.1\n",
      "Episode 4000\tAverage Score: 0.1985\tMax Score: 0.2\tMin Score: 0.2\n",
      "Episode 4100\tAverage Score: 0.3265\tMax Score: 0.6\tMin Score: 0.6\n",
      "Episode 4200\tAverage Score: 0.4478\tMax Score: 1.0\tMin Score: 1.0\n",
      "Episode 4215\tAverage Score: 0.5047\tScore: 0.79\n",
      "Environment solved in 4215 episodes!\tAverage Score: 0.5\n"
     ]
    }
   ],
   "source": [
    "optimal_params = {\n",
    "  \"random_seed\": RANDOM_SEED,\n",
    "  \"noise_sigma\": 0.02,\n",
    "  \"noise_theta\": 0.015,\n",
    "  \"weight_decay\": 0,\n",
    "  \"tau\": 0.05,\n",
    "  \"gamma\": 0.95,\n",
    "  \"critic_lr\": 0.0001,\n",
    "  \"actor_lr\": 0.001,\n",
    "  \"critic_fc2_units\": 128,\n",
    "  \"critic_fc1_units\": 128,\n",
    "  \"actor_fc2_units\": 128,\n",
    "  \"actor_fc1_units\": 128,\n",
    "  \"update_times\": 10,\n",
    "  \"update_every\": 20,\n",
    "  \"batch_size\": 256,\n",
    "  \"buffer_size\": 1000000.0,\n",
    "  \"eps_decay\": 0.7,\n",
    "  \"eps_end\": 0.3,\n",
    "  \"eps_start\": 1.0,\n",
    "  \"action_size\": action_size,\n",
    "  \"state_size\": state_size,\n",
    "  \"n_episodes\": 20000,\n",
    "  \"solved_threshold\": 0.5,\n",
    "  \"break_early\": True,\n",
    "  \"name\": \"_base\",\n",
    "  \"num_agents\": 2,\n",
    "  \"brain_name\": brain_name\n",
    "}\n",
    "\n",
    "scores = train_ddpg(env=env, **optimal_params)"
   ]
  },
  {
   "cell_type": "code",
   "execution_count": 3,
   "metadata": {},
   "outputs": [],
   "source": [
    "import json\n",
    "\n",
    "with open(\"scores.json\", \"w\") as f:\n",
    "    json.dump({\"scores\": scores}, f, indent=2)"
   ]
  },
  {
   "cell_type": "markdown",
   "metadata": {},
   "source": [
    "### Plot of Average Scores Over 1000 Episodes"
   ]
  },
  {
   "cell_type": "code",
   "execution_count": 4,
   "metadata": {},
   "outputs": [
    {
     "data": {
      "text/plain": [
       "<matplotlib.axes._subplots.AxesSubplot at 0x7fd52e7fada0>"
      ]
     },
     "execution_count": 4,
     "metadata": {},
     "output_type": "execute_result"
    },
    {
     "data": {
      "image/png": "[encoded data removed]",
      "text/plain": [
       "<Figure size 432x288 with 1 Axes>"
      ]
     },
     "metadata": {
      "needs_background": "light"
     },
     "output_type": "display_data"
    }
   ],
   "source": [
    "import seaborn as sns\n",
    "import pandas as pd\n",
    "\n",
    "with open(\"scores.json\", \"r\") as f:\n",
    "    scores = json.load(f)\n",
    "\n",
    "sdf = pd.DataFrame(scores)\n",
    "sdf = sdf.reset_index().rename(columns={\"index\": \"episode\", \"scores\": \"max_agent_score\"})\n",
    "sdf[\"mean_of_max_agent_score\"] = sdf[\"max_agent_score\"].rolling(window=100).mean()\n",
    "\n",
    "sns.lineplot(data=sdf, x=\"episode\", y=\"mean_of_max_agent_score\")"
   ]
  },
  {
   "cell_type": "markdown",
   "metadata": {},
   "source": [
    "## Watch The Trained Agent"
   ]
  },
  {
   "cell_type": "markdown",
   "metadata": {},
   "source": [
    "Below I've loaded the trained agent and shown a gif of it performing the task."
   ]
  },
  {
   "cell_type": "code",
   "execution_count": null,
   "metadata": {},
   "outputs": [
    {
     "name": "stderr",
     "output_type": "stream",
     "text": [
      "INFO:unityagents:\n",
      "'Academy' started successfully!\n",
      "Unity Academy name: Academy\n",
      "        Number of Brains: 1\n",
      "        Number of External Brains : 1\n",
      "        Lesson number : 0\n",
      "        Reset Parameters :\n",
      "\t\t\n",
      "Unity brain name: TennisBrain\n",
      "        Number of Visual Observations (per agent): 0\n",
      "        Vector Observation space type: continuous\n",
      "        Vector Observation space size (per agent): 8\n",
      "        Number of stacked Vector Observation: 3\n",
      "        Vector Action space type: continuous\n",
      "        Vector Action space size (per agent): 2\n",
      "        Vector Action descriptions: , \n"
     ]
    },
    {
     "name": "stdout",
     "output_type": "stream",
     "text": [
      "Replay Buffer Size: 1000000.0, Batch Size: 256\n",
      "Episode: 0\tMax Reward: 0.19\tAgent 1 Total Reward: 0.1\tAgent 2 Total Reward: 0.19\n",
      "Episode: 1\tMax Reward: 2.6\tAgent 1 Total Reward: 2.6\tAgent 2 Total Reward: 2.6\n",
      "Timestep: 24\tAgent 1 Reward: 0.0\tAgent 2 Reward: 0.0"
     ]
    }
   ],
   "source": [
    "from unityagents import UnityEnvironment\n",
    "env = UnityEnvironment(file_name='./env/Tennis.app')\n",
    "\n",
    "RANDOM_SEED=2\n",
    "NUM_AGENTS=2\n",
    "\n",
    "# get the default brain\n",
    "brain_name = env.brain_names[0]\n",
    "brain = env.brains[brain_name]\n",
    "from agent import Agent\n",
    "import torch\n",
    "import numpy as np\n",
    "\n",
    "params = {\n",
    "  \"random_seed\": RANDOM_SEED,\n",
    "  \"noise_sigma\": 0.02,\n",
    "  \"noise_theta\": 0.015,\n",
    "  \"weight_decay\": 0,\n",
    "  \"tau\": 0.05,\n",
    "  \"gamma\": 0.95,\n",
    "  \"critic_lr\": 0.0001,\n",
    "  \"actor_lr\": 0.001,\n",
    "  \"critic_fc2_units\": 128,\n",
    "  \"critic_fc1_units\": 128,\n",
    "  \"actor_fc2_units\": 128,\n",
    "  \"actor_fc1_units\": 128,\n",
    "  \"update_times\": 10,\n",
    "  \"update_every\": 20,\n",
    "  \"batch_size\": 256,\n",
    "  \"buffer_size\": 1000000.0,\n",
    "  \"eps_decay\": 0.7,\n",
    "  \"eps_end\": 0.3,\n",
    "  \"eps_start\": 1.0,\n",
    "  \"action_size\": 2,\n",
    "  \"state_size\": 24,\n",
    "}\n",
    "\n",
    "agent = Agent(**params)\n",
    "\n",
    "agent.actor_local.load_state_dict(torch.load('checkpoint_actor_base.pth'))\n",
    "agent.critic_local.load_state_dict(torch.load('checkpoint_critic_base.pth'))\n",
    "        \n",
    "env_info = env.reset(train_mode=False)[brain_name]\n",
    "max_scores = []\n",
    "\n",
    "for i_episode in range(10):\n",
    "    agent.reset()\n",
    "    states = env_info.vector_observations\n",
    "    agent_scores = np.zeros(NUM_AGENTS)\n",
    "    i = 1\n",
    "    while True:\n",
    "        actions = agent.act(state=states, add_noise=False)\n",
    "        actions = np.clip(actions, -1, 1)\n",
    "        env_info = env.step(actions)[brain_name]\n",
    "        next_states = env_info.vector_observations\n",
    "        rewards = env_info.rewards\n",
    "        dones = env_info.local_done\n",
    "        states = next_states\n",
    "        agent_scores += rewards\n",
    "        print(f\"\\rTimestep: {i}\\tAgent 1 Reward: {round(rewards[0],4)}\\tAgent 2 Reward: {round(rewards[1],4)}\", end = \"\")\n",
    "        if np.any(dones):\n",
    "            break\n",
    "        i += 1\n",
    "    \n",
    "    episode_max = np.max(agent_scores)\n",
    "    print(f\"\\rEpisode: {i_episode}\\tMax Reward: {round(episode_max,4)}\\tAgent 1 Total Reward: {round(agent_scores[0],4)}\\tAgent 2 Total Reward: {round(agent_scores[1],4)}\")\n",
    "\n",
    "env.close()"
   ]
  },
  {
   "cell_type": "markdown",
   "metadata": {},
   "source": [
    "![playing.gif](playing.gif)"
   ]
  },
  {
   "cell_type": "markdown",
   "metadata": {},
   "source": [
    "## Training Run with Larger Hidden Layers"
   ]
  },
  {
   "cell_type": "markdown",
   "metadata": {},
   "source": [
    "In the above training session the agent solves the environment, but the play didn't look very natural. There is a lot of back and fourth movement that seems uneccessary that a human agent wouldn't do. I was curious to see if a larger network would change this. The larger network took much longer to get to a point where the agents were able to rally, and it came close to achieving the 0.5 threshold but then appeared to get worse over time, so I terminated it early."
   ]
  },
  {
   "cell_type": "code",
   "execution_count": null,
   "metadata": {},
   "outputs": [
    {
     "name": "stdout",
     "output_type": "stream",
     "text": [
      "{\n",
      "  \"random_seed\": 2,\n",
      "  \"noise_sigma\": 0.02,\n",
      "  \"noise_theta\": 0.015,\n",
      "  \"weight_decay\": 0,\n",
      "  \"tau\": 0.05,\n",
      "  \"gamma\": 0.95,\n",
      "  \"critic_lr\": 0.0001,\n",
      "  \"actor_lr\": 0.001,\n",
      "  \"critic_fc2_units\": 300,\n",
      "  \"critic_fc1_units\": 400,\n",
      "  \"actor_fc2_units\": 300,\n",
      "  \"actor_fc1_units\": 400,\n",
      "  \"update_times\": 10,\n",
      "  \"update_every\": 20,\n",
      "  \"batch_size\": 256,\n",
      "  \"buffer_size\": 1000000.0,\n",
      "  \"eps_decay\": 0.7,\n",
      "  \"eps_end\": 0.3,\n",
      "  \"eps_start\": 1.0,\n",
      "  \"action_size\": 2,\n",
      "  \"state_size\": 24,\n",
      "  \"n_episodes\": 20000,\n",
      "  \"solved_threshold\": 0.5,\n",
      "  \"break_early\": true,\n",
      "  \"name\": \"_large\",\n",
      "  \"num_agents\": 2,\n",
      "  \"brain_name\": \"TennisBrain\"\n",
      "Replay Buffer Size: 1000000.0, Batch Size: 256\n",
      "Episode 9\tAverage Score: 0.0\tScore: 0.0"
     ]
    },
    {
     "name": "stderr",
     "output_type": "stream",
     "text": [
      "/Users/kitson_swann/Documents/udacity_drl/udacity_drl_p3/agent.py:166: UserWarning: torch.nn.utils.clip_grad_norm is now deprecated in favor of torch.nn.utils.clip_grad_norm_.\n",
      "  torch.nn.utils.clip_grad_norm(self.critic_local.parameters(), 1)\n"
     ]
    },
    {
     "name": "stdout",
     "output_type": "stream",
     "text": [
      "Episode 100\tAverage Score: 0.0\tMax Score: 0.0\tMin Score: 0.0\n",
      "Episode 200\tAverage Score: 0.0\tMax Score: 0.0\tMin Score: 0.0\n",
      "Episode 300\tAverage Score: 0.0\tMax Score: 0.0\tMin Score: 0.0\n",
      "Episode 400\tAverage Score: 0.0\tMax Score: 0.0\tMin Score: 0.0\n",
      "Episode 500\tAverage Score: 0.0\tMax Score: 0.0\tMin Score: 0.0\n",
      "Episode 600\tAverage Score: 0.0\tMax Score: 0.0\tMin Score: 0.0\n",
      "Episode 700\tAverage Score: 0.0\tMax Score: 0.0\tMin Score: 0.0\n",
      "Episode 800\tAverage Score: 0.0\tMax Score: 0.0\tMin Score: 0.0\n",
      "Episode 900\tAverage Score: 0.0\tMax Score: 0.0\tMin Score: 0.0\n",
      "Episode 1000\tAverage Score: 0.0\tMax Score: 0.0\tMin Score: 0.0\n",
      "Episode 1100\tAverage Score: 0.0\tMax Score: 0.0\tMin Score: 0.0\n",
      "Episode 1200\tAverage Score: 0.0\tMax Score: 0.0\tMin Score: 0.0\n",
      "Episode 1300\tAverage Score: 0.0\tMax Score: 0.0\tMin Score: 0.0\n",
      "Episode 1400\tAverage Score: 0.0\tMax Score: 0.0\tMin Score: 0.0\n",
      "Episode 1500\tAverage Score: 0.0\tMax Score: 0.0\tMin Score: 0.0\n",
      "Episode 1600\tAverage Score: 0.0\tMax Score: 0.0\tMin Score: 0.0\n",
      "Episode 1700\tAverage Score: 0.0\tMax Score: 0.0\tMin Score: 0.0\n",
      "Episode 1800\tAverage Score: 0.0\tMax Score: 0.0\tMin Score: 0.0\n",
      "Episode 1900\tAverage Score: 0.0\tMax Score: 0.0\tMin Score: 0.0\n",
      "Episode 2000\tAverage Score: 0.0076\tMax Score: 0.0\tMin Score: 0.0\n",
      "Episode 2100\tAverage Score: 0.0175\tMax Score: 0.0\tMin Score: 0.0\n",
      "Episode 2200\tAverage Score: 0.0445\tMax Score: 0.09\tMin Score: 0.09\n",
      "Episode 2300\tAverage Score: 0.1028\tMax Score: 0.1\tMin Score: 0.1\n",
      "Episode 2400\tAverage Score: 0.1001\tMax Score: 0.09\tMin Score: 0.09\n",
      "Episode 2500\tAverage Score: 0.1107\tMax Score: 0.1\tMin Score: 0.1\n",
      "Episode 2600\tAverage Score: 0.106\tMax Score: 0.1\tMin Score: 0.1\n",
      "Episode 2700\tAverage Score: 0.1642\tMax Score: 0.1\tMin Score: 0.1\n",
      "Episode 2800\tAverage Score: 0.3228\tMax Score: 0.7\tMin Score: 0.7\n",
      "Episode 2900\tAverage Score: 0.4343\tMax Score: 0.1\tMin Score: 0.1\n",
      "Episode 3000\tAverage Score: 0.4205\tMax Score: 0.1\tMin Score: 0.1\n",
      "Episode 3100\tAverage Score: 0.2977\tMax Score: 0.3\tMin Score: 0.3\n",
      "Episode 3200\tAverage Score: 0.2408\tMax Score: 0.09\tMin Score: 0.09\n",
      "Episode 3300\tAverage Score: 0.1807\tMax Score: 0.1\tMin Score: 0.1\n",
      "Episode 3400\tAverage Score: 0.1958\tMax Score: 0.2\tMin Score: 0.2\n",
      "Episode 3500\tAverage Score: 0.2045\tMax Score: 0.2\tMin Score: 0.2\n",
      "Episode 3600\tAverage Score: 0.2004\tMax Score: 0.1\tMin Score: 0.1\n",
      "Episode 3700\tAverage Score: 0.1805\tMax Score: 0.2\tMin Score: 0.2\n",
      "Episode 3800\tAverage Score: 0.1729\tMax Score: 0.2\tMin Score: 0.2\n",
      "Episode 3900\tAverage Score: 0.1718\tMax Score: 0.2\tMin Score: 0.2\n",
      "Episode 4000\tAverage Score: 0.1757\tMax Score: 0.2\tMin Score: 0.2\n",
      "Episode 4100\tAverage Score: 0.1867\tMax Score: 0.2\tMin Score: 0.2\n",
      "Episode 4200\tAverage Score: 0.1836\tMax Score: 0.2\tMin Score: 0.2\n",
      "Episode 4300\tAverage Score: 0.1769\tMax Score: 0.2\tMin Score: 0.2\n",
      "Episode 4400\tAverage Score: 0.169\tMax Score: 0.1\tMin Score: 0.1\n",
      "Episode 4500\tAverage Score: 0.1729\tMax Score: 0.1\tMin Score: 0.1\n",
      "Episode 4600\tAverage Score: 0.1584\tMax Score: 0.1\tMin Score: 0.1\n",
      "Episode 4700\tAverage Score: 0.147\tMax Score: 0.1\tMin Score: 0.1\n",
      "Episode 4800\tAverage Score: 0.16\tMax Score: 0.2\tMin Score: 0.2\n",
      "Episode 4900\tAverage Score: 0.1597\tMax Score: 0.2\tMin Score: 0.2\n",
      "Episode 5000\tAverage Score: 0.1629\tMax Score: 0.2\tMin Score: 0.2\n",
      "Episode 5100\tAverage Score: 0.1515\tMax Score: 0.2\tMin Score: 0.2\n",
      "Episode 5200\tAverage Score: 0.1479\tMax Score: 0.1\tMin Score: 0.1\n",
      "Episode 5300\tAverage Score: 0.1449\tMax Score: 0.2\tMin Score: 0.2\n",
      "Episode 5400\tAverage Score: 0.1368\tMax Score: 0.1\tMin Score: 0.1\n",
      "Episode 5500\tAverage Score: 0.136\tMax Score: 0.1\tMin Score: 0.1\n",
      "Episode 5600\tAverage Score: 0.1438\tMax Score: 0.1\tMin Score: 0.1\n",
      "Episode 5700\tAverage Score: 0.1379\tMax Score: 0.1\tMin Score: 0.1\n",
      "Episode 5783\tAverage Score: 0.1448\tScore: 0.19"
     ]
    }
   ],
   "source": [
    "alternate_params = {\n",
    "  \"random_seed\": RANDOM_SEED,\n",
    "  \"noise_sigma\": 0.02,\n",
    "  \"noise_theta\": 0.015,\n",
    "  \"weight_decay\": 0,\n",
    "  \"tau\": 0.05,\n",
    "  \"gamma\": 0.95,\n",
    "  \"critic_lr\": 0.0001,\n",
    "  \"actor_lr\": 0.001,\n",
    "  \"critic_fc2_units\": 300,\n",
    "  \"critic_fc1_units\": 400,\n",
    "  \"actor_fc2_units\": 300,\n",
    "  \"actor_fc1_units\": 400,\n",
    "  \"update_times\": 10,\n",
    "  \"update_every\": 20,\n",
    "  \"batch_size\": 256,\n",
    "  \"buffer_size\": 1000000.0,\n",
    "  \"eps_decay\": 0.7,\n",
    "  \"eps_end\": 0.3,\n",
    "  \"eps_start\": 1.0,\n",
    "  \"action_size\": action_size,\n",
    "  \"state_size\": state_size,\n",
    "  \"n_episodes\": 20000,\n",
    "  \"solved_threshold\": 0.5,\n",
    "  \"break_early\": True,\n",
    "  \"name\": \"_large\",\n",
    "  \"num_agents\": 2,\n",
    "  \"brain_name\": brain_name\n",
    "}\n",
    "\n",
    "scores = train_ddpg(env=env, **alternate_params)"
   ]
  },
  {
   "cell_type": "markdown",
   "metadata": {},
   "source": [
    "# Ideas for Future Work\n",
    "\n",
    "I did not do an extensive hyperparameter search here because I had already solved the environent, and because the agent didn't show any positive scores until 400 episodes into training. So, to get any signal from the hyperparameter optimization I would probably have to train each parameter set for a minimum of 400 episodes, which would take a prohibitively long time. If I had more time and access to a GPU I could conduct a more exhaustive hyper-parameter search.\n",
    "\n",
    "In the previous project instructions, there were also number of other algorithms mentioned that may work better including:\n",
    "\n",
    "- Trust Region Policy Optimization (TRPO)\n",
    "- Truncated Natural Policy Gradient (TNPG)\n",
    "- Proximal Policy Optimization (PPO)\n",
    "- Distributed Distributional Deterministic Policy Gradients (D4PG)\n",
    "\n",
    "The next steps for me would be to investigate and attempt to solve the task with one or more of these alternate algorithms."
   ]
  }
 ],
 "metadata": {
  "kernelspec": {
   "display_name": "Python 3",
   "language": "python",
   "name": "python3"
  },
  "language_info": {
   "codemirror_mode": {
    "name": "ipython",
    "version": 3
   },
   "file_extension": ".py",
   "mimetype": "text/x-python",
   "name": "python",
   "nbconvert_exporter": "python",
   "pygments_lexer": "ipython3",
   "version": "3.6.10"
  }
 },
 "nbformat": 4,
 "nbformat_minor": 4
}
